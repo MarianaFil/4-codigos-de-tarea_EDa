{
  "nbformat": 4,
  "nbformat_minor": 0,
  "metadata": {
    "colab": {
      "name": "omitir_numero.ipynb",
      "provenance": []
    },
    "kernelspec": {
      "name": "python3",
      "display_name": "Python 3"
    },
    "language_info": {
      "name": "python"
    }
  },
  "cells": [
    {
      "cell_type": "code",
      "metadata": {
        "colab": {
          "base_uri": "https://localhost:8080/"
        },
        "id": "CKerHluvOdi9",
        "outputId": "fd243313-a189-4ad5-ef90-4889bfdd38ae"
      },
      "source": [
        "array=[9, 8, 2, 3]\n",
        "if (len(array) %2==0):\n",
        "  array.pop(len(array)//2-2)\n",
        "  print(array)"
      ],
      "execution_count": 5,
      "outputs": [
        {
          "output_type": "stream",
          "name": "stdout",
          "text": [
            "[8, 2, 3]\n"
          ]
        }
      ]
    },
    {
      "cell_type": "code",
      "metadata": {
        "colab": {
          "base_uri": "https://localhost:8080/"
        },
        "id": "WVR9_hqWPhef",
        "outputId": "d6558b78-3622-4d33-8c6f-5b2cea9e7bc4"
      },
      "source": [
        "array2=[33, 5, 9, 14, 99]\n",
        "if(len(array2)%2==1):\n",
        "  array2.pop(len(array2)//2)\n",
        "  print(array2)"
      ],
      "execution_count": 9,
      "outputs": [
        {
          "output_type": "stream",
          "name": "stdout",
          "text": [
            "[33, 5, 14, 99]\n"
          ]
        }
      ]
    }
  ]
}