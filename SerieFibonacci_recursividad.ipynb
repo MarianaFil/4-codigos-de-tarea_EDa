{
  "nbformat": 4,
  "nbformat_minor": 0,
  "metadata": {
    "colab": {
      "name": "SerieFibonacci_recursividad.ipynb",
      "provenance": []
    },
    "kernelspec": {
      "name": "python3",
      "display_name": "Python 3"
    },
    "language_info": {
      "name": "python"
    }
  },
  "cells": [
    {
      "cell_type": "code",
      "metadata": {
        "id": "8mTBoooP0ibW"
      },
      "source": [
        "def serieFib (n):\n",
        "  if n == 0:\n",
        "    return 0\n",
        "  elif n == 1:\n",
        "    return 1\n",
        "  else:\n",
        "    return (serieFib(n-1)+serieFib(n-2))\n",
        "\n",
        "\n",
        "    "
      ],
      "execution_count": 53,
      "outputs": []
    },
    {
      "cell_type": "code",
      "metadata": {
        "colab": {
          "base_uri": "https://localhost:8080/"
        },
        "id": "cwDdIofoM8ir",
        "outputId": "d8a6b210-d167-4877-ac7d-de38a16f4103"
      },
      "source": [
        "n=9\n",
        "print (serieFib(n))"
      ],
      "execution_count": 55,
      "outputs": [
        {
          "output_type": "stream",
          "name": "stdout",
          "text": [
            "34\n"
          ]
        }
      ]
    }
  ]
}