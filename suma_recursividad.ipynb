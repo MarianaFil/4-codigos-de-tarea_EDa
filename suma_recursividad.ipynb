{
  "nbformat": 4,
  "nbformat_minor": 0,
  "metadata": {
    "colab": {
      "name": "suma_recursividad.ipynb",
      "provenance": []
    },
    "kernelspec": {
      "name": "python3",
      "display_name": "Python 3"
    },
    "language_info": {
      "name": "python"
    }
  },
  "cells": [
    {
      "cell_type": "code",
      "metadata": {
        "id": "BfuxmWnhQsHg"
      },
      "source": [
        "def sum(n):\n",
        "  if n>0:\n",
        "    sum(n-1)\n",
        "    print (n)"
      ],
      "execution_count": 5,
      "outputs": []
    },
    {
      "cell_type": "code",
      "metadata": {
        "id": "zdxYSawFRBVA"
      },
      "source": [
        "sum( 9 ) "
      ],
      "execution_count": null,
      "outputs": []
    },
    {
      "cell_type": "code",
      "metadata": {
        "id": "qPAKkx1-RlxF"
      },
      "source": [
        "def sumatoria(num):\n",
        "  if num==0:\n",
        "    return 0\n",
        "  else:\n",
        "    return num + sumatoria(num-1)\n"
      ],
      "execution_count": 12,
      "outputs": []
    },
    {
      "cell_type": "code",
      "metadata": {
        "colab": {
          "base_uri": "https://localhost:8080/"
        },
        "id": "qFk4SQ_AwwDg",
        "outputId": "b1f98207-dd33-4e02-9a0f-01b329f451e2"
      },
      "source": [
        "num=15\n",
        "print('La sumatoria desde 15 es:')\n",
        "print (sumatoria(num))"
      ],
      "execution_count": 17,
      "outputs": [
        {
          "output_type": "stream",
          "name": "stdout",
          "text": [
            "La sumatoria desde 15 es:\n",
            "120\n"
          ]
        }
      ]
    }
  ]
}