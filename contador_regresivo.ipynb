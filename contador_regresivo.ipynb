{
  "nbformat": 4,
  "nbformat_minor": 0,
  "metadata": {
    "colab": {
      "name": "contador_regresivo.ipynb",
      "provenance": []
    },
    "kernelspec": {
      "name": "python3",
      "display_name": "Python 3"
    },
    "language_info": {
      "name": "python"
    }
  },
  "cells": [
    {
      "cell_type": "code",
      "metadata": {
        "id": "5S36pkXT1EIk"
      },
      "source": [
        "def contador (c):\n",
        "  if c==0:\n",
        "    print( '¡¡BOOOMMMMMMM!!' )\n",
        "  else:\n",
        "      print(c)\n",
        "      return contador(c-1)\n",
        "\n",
        "    \n"
      ],
      "execution_count": 54,
      "outputs": []
    },
    {
      "cell_type": "code",
      "metadata": {
        "colab": {
          "base_uri": "https://localhost:8080/"
        },
        "id": "HL83tYJusYmX",
        "outputId": "df585b36-6447-4251-c0ae-cbb61a6040b5"
      },
      "source": [
        "contador(15)"
      ],
      "execution_count": 62,
      "outputs": [
        {
          "output_type": "stream",
          "name": "stdout",
          "text": [
            "15\n",
            "14\n",
            "13\n",
            "12\n",
            "11\n",
            "10\n",
            "9\n",
            "8\n",
            "7\n",
            "6\n",
            "5\n",
            "4\n",
            "3\n",
            "2\n",
            "1\n",
            "¡¡BOOOM!!\n"
          ]
        }
      ]
    }
  ]
}