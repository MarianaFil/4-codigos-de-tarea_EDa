{
  "nbformat": 4,
  "nbformat_minor": 0,
  "metadata": {
    "colab": {
      "name": "tarea_1.ipynb",
      "provenance": [],
      "authorship_tag": "ABX9TyP8wxs6Ig5lDSZQihRgBkXC",
      "include_colab_link": true
    },
    "kernelspec": {
      "name": "python3",
      "display_name": "Python 3"
    },
    "language_info": {
      "name": "python"
    }
  },
  "cells": [
    {
      "cell_type": "markdown",
      "metadata": {
        "id": "view-in-github",
        "colab_type": "text"
      },
      "source": [
        "<a href=\"https://colab.research.google.com/github/MarianaFil/4-codigos-de-tarea_EDa/blob/main/tarea_1.ipynb\" target=\"_parent\"><img src=\"https://colab.research.google.com/assets/colab-badge.svg\" alt=\"Open In Colab\"/></a>"
      ]
    },
    {
      "cell_type": "code",
      "execution_count": 1,
      "metadata": {
        "id": "hJdirW74I7ug"
      },
      "outputs": [],
      "source": [
        "class Nodo:\n",
        "  def __init__(self , value , left = None , center = None , rigth = None):\n",
        "    self.data = value\n",
        "    self.left = left\n",
        "    self.center = center\n",
        "    self.rigth = rigth\n",
        "\n"
      ]
    },
    {
      "cell_type": "code",
      "source": [
        "class NodoTernario:\n",
        "  def __init__(self , value , left = None , center = None , rigth = None):\n",
        "    self.data = value\n",
        "    self.left = left\n",
        "    self.center = center\n",
        "    self.rigth = rigth"
      ],
      "metadata": {
        "id": "KsDaR7TFYyzD"
      },
      "execution_count": 2,
      "outputs": []
    },
    {
      "cell_type": "code",
      "source": [
        "arbol = NodoTernario(20, None , NodoTernario(23,  NodoTernario(19 , NodoTernario(67, center = NodoTernario(99 , None ,  \\ \n",
        "None , NodoTernario(23 None , Nodoternario(57) , None ) \n",
        "\n",
        "print(arbol2.left.left.center.data)\n"
      ],
      "metadata": {
        "colab": {
          "base_uri": "https://localhost:8080/",
          "height": 131
        },
        "id": "XKg8aItgaz7V",
        "outputId": "6dbabb8f-4913-46a7-f300-ee4d3e882de7"
      },
      "execution_count": 7,
      "outputs": [
        {
          "output_type": "error",
          "ename": "SyntaxError",
          "evalue": "ignored",
          "traceback": [
            "\u001b[0;36m  File \u001b[0;32m\"<ipython-input-7-c17c8396c4eb>\"\u001b[0;36m, line \u001b[0;32m1\u001b[0m\n\u001b[0;31m    arbol = NodoTernario(20, NodoTernario(23, None , NodoTernario(19 , NodoTernario(67, center = NodoTernario(99 , None ,  \\\u001b[0m\n\u001b[0m                                                                                                                             ^\u001b[0m\n\u001b[0;31mSyntaxError\u001b[0m\u001b[0;31m:\u001b[0m unexpected character after line continuation character\n"
          ]
        }
      ]
    }
  ]
}